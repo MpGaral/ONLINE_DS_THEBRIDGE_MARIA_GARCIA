{
 "cells": [
  {
   "cell_type": "markdown",
   "id": "e3375839-011a-4444-a167-c50873713dc8",
   "metadata": {},
   "source": [
    "_________________________________________________________________________"
   ]
  },
  {
   "cell_type": "markdown",
   "id": "0671a61c-2150-477b-9ddf-4b4aba1897b6",
   "metadata": {},
   "source": [
    "## PRACTICA OBLIGATORIA: ALGEBRA Y NUMPY"
   ]
  },
  {
   "cell_type": "markdown",
   "id": "bcd4548e-85ab-4de6-8217-f0d7db8d2bdf",
   "metadata": {},
   "source": [
    "* La práctica obligatoria de esta unidad consiste en dos ejercicios de programación libre a completar. Descarga este notebook en tu ordenador y trabaja en local.  \n",
    "* Recuerda que debes subirla a tu repositorio personal antes de la sesión en vivo para que puntúe adecuadamente.  \n",
    "* Recuerda también que no es necesario que esté perfecta, sólo es necesario que se vea el esfuerzo. \n",
    "* Esta práctica se resolverá en la sesión en vivo correspondiente y la solución se publicará en el repo del curso. "
   ]
  },
  {
   "cell_type": "markdown",
   "id": "7616deaa-5584-43d4-b979-da3af7e330d4",
   "metadata": {},
   "source": [
    "\n",
    "## PARTE I: ¿Dónde me pongo como el Kiko?"
   ]
  },
  {
   "cell_type": "markdown",
   "id": "dae2da03-de20-4cb8-aba7-2afc9a42d3ef",
   "metadata": {},
   "source": [
    "Rafa, Nacho y Clara quieren comprar palmeras, donuts, hojaldres y tartas. Cada uno necesita diferentes cantidades y pueden elegir dos tiendas: *Manolo Bakes* y *Starbucks*. \n",
    "\n",
    "Las siguiente tablas muestran, respectivamente, la cantidad que cada uno necesita, y los precios en cada una de las tiendas\n",
    "\n",
    "<table><thead><tr><th></th><th>Palmeras</th><th>Donuts</th><th>Hojaldres</th><th>Tartas</th></tr></thead><tbody><tr><td>Rafa</td><td>6</td><td>5</td><td>3</td><td>1</td></tr><tr><td>Nacho</td><td>3</td><td>6</td><td>2</td><td>2</td></tr><tr><td>Clara</td><td>3</td><td>4</td><td>3</td><td>1</td></tr></tbody></table>\n",
    "\n",
    "<table><thead><tr><th></th><th>Manolo Bakes</th><th>Starbucks</th></tr></thead><tbody><tr><td>Palmera</td><td>1.50</td><td>1.00</td></tr><tr><td>Donut</td><td>2.00</td><td>2.50</td></tr><tr><td>Hojaldre</td><td>5.00</td><td>4.50</td></tr><tr><td>Tarta</td><td>16.00</td><td>17.00</td></tr></tbody></table>\n",
    "\n",
    "Por ejemplo, si Rafa compra en *Manolo Bakes* gastaría:  \n",
    "\n",
    "$6\\cdot1.50+5\\cdot2+3\\cdot5+1\\cdot16=50$  \n",
    "\n",
    "y si compra en *Starbucks* gastaría:  \n",
    "\n",
    "$6\\cdot1+5\\cdot2.50+3\\cdot4.50+1\\cdot17=49$  \n",
    "\n",
    "**SE PIDE**: Genera la matriz que exprese la cantidad que cada persona gastaría en cada tienda, y recomienda a cada uno dónde debería hacer sus compras (pista: donde le cueste menos, ¿no?)\n",
    "\n",
    "**REQUISITIO**: Emplea Numpy, su tipo array y sus operaciones para la resolución del ejercicio. "
   ]
  },
  {
   "cell_type": "code",
   "execution_count": 20,
   "id": "b526aa42-de21-4473-bbf1-b855e22ec5f4",
   "metadata": {},
   "outputs": [
    {
     "name": "stdout",
     "output_type": "stream",
     "text": [
      "Matriz de gastos (cada fila es [Manolo Bakes, Starbucks]):\n",
      "Rafa: [50. 49.]\n",
      "Nacho: [58.5 61. ]\n",
      "Clara: [43.5 43.5]\n",
      "Rafa debería comprar en Starbucks.\n",
      "Nacho debería comprar en Manolo Bakes.\n",
      "Clara debería comprar en Starbucks.\n"
     ]
    }
   ],
   "source": [
    "import numpy as np\n",
    "\n",
    "personas_pedido = np.array([\n",
    "    [6, 5, 3, 1],   \n",
    "    [3, 6, 2, 2],   \n",
    "    [3, 4, 3, 1]    \n",
    "])\n",
    "precios = np.array([\n",
    "    [1.50, 1.00],  \n",
    "    [2.00, 2.50],  \n",
    "    [5.00, 4.50],  \n",
    "    [16.00, 17.00] \n",
    "])\n",
    "gastos_manolo = np.dot(personas_pedido, precios[:, 0])  \n",
    "gastos_starbucks = np.dot(personas_pedido, precios[:, 1]) \n",
    "\n",
    "matriz_gastos = np.array([gastos_manolo, gastos_starbucks]).T\n",
    "\n",
    "personas = ['Rafa', 'Nacho', 'Clara']\n",
    "tiendas = ['Manolo Bakes', 'Starbucks']\n",
    "\n",
    "print(\"Matriz de gastos (cada fila es [Manolo Bakes, Starbucks]):\")\n",
    "for i, persona in enumerate(personas):\n",
    "    print(f\"{persona}: {matriz_gastos[i]}\")\n",
    "\n",
    "for i, persona in enumerate(personas):\n",
    "    if gastos_manolo[i] < gastos_starbucks[i]:\n",
    "        mejor_tienda = \"Manolo Bakes\"\n",
    "    else:\n",
    "        mejor_tienda = \"Starbucks\"\n",
    "    print(f\"{persona} debería comprar en {mejor_tienda}.\")\n"
   ]
  },
  {
   "cell_type": "markdown",
   "id": "84958ce3-539b-4709-ae19-3a25eed89dea",
   "metadata": {},
   "source": [
    "**BONUS (Voluntario):**  \n",
    "Expresa utilizando markdown y laTex las matrices y las operaciones que has realizado. Recuerda que para invocar LaTex denro de markdown se emplea $, y $$ si queremos que esté centrado. Y que [aquí](https://ashki23.github.io/markdown-latex.html#latex \"Latex y Markdown\") tienes muchos ejemplos de como trabajar con latex"
   ]
  },
  {
   "cell_type": "code",
   "execution_count": null,
   "id": "6c5c1e5e-8d45-4ce1-9c0c-485beedb1655",
   "metadata": {},
   "outputs": [],
   "source": []
  },
  {
   "cell_type": "markdown",
   "id": "41abd848-9947-4e7e-a62e-6fc3910dd1d3",
   "metadata": {},
   "source": [
    "_________________________________________________________________________"
   ]
  },
  {
   "cell_type": "markdown",
   "id": "88693718-9e3a-4487-b546-40409161165f",
   "metadata": {},
   "source": [
    "## PARTE II: Clasificador de Películas\n",
    "\n",
    "II.1: Similitud entre películas\n",
    "\n",
    "Vamos a calcular similitudes entre películas. Para ello las clasificasmos según generos, en concreto tenemos:\n",
    "\n",
    "* Toy Story: Aventura, Animación, Comedia\n",
    "* Jumanji: Aventura   \n",
    "* Mortal Kombat: Acción, Aventura  \n",
    "* Pocahontas: Animación, Romance\n",
    "\n",
    "Y ahora calcularemos su similitud por el método del coseno. Para ello:\n",
    "\n",
    "1. Convierte cada película en un vector y almacenalo en un diccionario con clave el nombre de la película. Pista: Para convertirlo en vector, crea un vector/lista por película con esta estructura (¿qué valores puedes darle por género?):\n",
    "\n",
    "$$[Acción,  Aventura , Animación, Comedia, Romance]$$"
   ]
  },
  {
   "cell_type": "code",
   "execution_count": 22,
   "id": "520b93bc-ff3e-4831-8bc9-60ac44f18a68",
   "metadata": {},
   "outputs": [],
   "source": [
    "import numpy as np\n",
    "\n",
    "\n",
    "peliculas = {\n",
    "    \"Toy Story\": [\"Aventura\", \"Animación\", \"Comedia\"],\n",
    "    \"Jumanji\": [\"Aventura\"],\n",
    "    \"Mortal Kombat\": [\"Acción\", \"Aventura\"],\n",
    "    \"Pocahontas\": [\"Animación\", \"Romance\"]\n",
    "}\n",
    "generos_unicos = list(set(genero for generos in peliculas.values() \n",
    "                          for genero in generos))\n",
    "\n",
    "vectores_peliculas = {pelicula: [1 if genero in generos \n",
    "                                 else 0 \n",
    "                                 for genero in generos_unicos]\n",
    "                      for pelicula, generos in peliculas.items()}"
   ]
  },
  {
   "cell_type": "markdown",
   "id": "b2850f9b-1fa0-41ba-be32-dce1cacb8d54",
   "metadata": {},
   "source": [
    "2. Crea una matriz de películas con un array de numpy. Muestra la dimension, shape, tamaño y tipo del array.\n"
   ]
  },
  {
   "cell_type": "code",
   "execution_count": 21,
   "id": "60724365-837a-43c0-ba9e-3d69a896d0d5",
   "metadata": {},
   "outputs": [
    {
     "name": "stdout",
     "output_type": "stream",
     "text": [
      "Matriz de películas:\n",
      "[[1 0 1 1 0]\n",
      " [1 0 0 0 0]\n",
      " [1 0 0 0 1]\n",
      " [0 1 1 0 0]]\n",
      "Dimensiones: 2\n",
      "Shape: (4, 5)\n",
      "Tamaño: 20\n",
      "Tipo: int64\n"
     ]
    }
   ],
   "source": [
    "matriz_peliculas = np.array(list(vectores_peliculas.values()))\n",
    "print(\"Matriz de películas:\")\n",
    "print(matriz_peliculas)\n",
    "print(\"Dimensiones:\", matriz_peliculas.ndim)\n",
    "print(\"Shape:\", matriz_peliculas.shape)\n",
    "print(\"Tamaño:\", matriz_peliculas.size)\n",
    "print(\"Tipo:\", matriz_peliculas.dtype)"
   ]
  },
  {
   "cell_type": "markdown",
   "id": "850b2008-ae5c-437a-967e-a363fc186e7f",
   "metadata": {},
   "source": [
    "3. A partir de la similitud por coseno (recuerda a mayor coseno entre vectore más similitud), genera un programa que calcule la similitud entre cada pelicula y nos diga cuales son las más parecidas entre sí."
   ]
  },
  {
   "cell_type": "code",
   "execution_count": 23,
   "id": "345f1b7f-6200-4024-ad94-54ac9a22c3a5",
   "metadata": {},
   "outputs": [
    {
     "name": "stdout",
     "output_type": "stream",
     "text": [
      "Similitudes entre películas:\n",
      "Similitud entre Toy Story y Jumanji: 0.5774\n",
      "Similitud entre Toy Story y Mortal Kombat: 0.4082\n",
      "Similitud entre Toy Story y Pocahontas: 0.4082\n",
      "Similitud entre Jumanji y Mortal Kombat: 0.7071\n",
      "Similitud entre Jumanji y Pocahontas: 0.0000\n",
      "Similitud entre Mortal Kombat y Pocahontas: 0.0000\n"
     ]
    }
   ],
   "source": [
    "from sklearn.metrics.pairwise import cosine_similarity\n",
    "def similitud_coseno(A, B):\n",
    "    producto_punto = np.dot(A, B)\n",
    "    norma_A = np.linalg.norm(A)\n",
    "    norma_B = np.linalg.norm(B)\n",
    "    if norma_A == 0 or norma_B == 0: \n",
    "        return 0\n",
    "    return producto_punto / (norma_A * norma_B)\n",
    "\n",
    "peliculas_similares = []\n",
    "num_peliculas = len(peliculas)\n",
    "\n",
    "for i in range(num_peliculas):\n",
    "    for j in range(i + 1, num_peliculas):\n",
    "        pelicula1 = list(peliculas.keys())[i]\n",
    "        pelicula2 = list(peliculas.keys())[j]\n",
    "        similitud = similitud_coseno(matriz_peliculas[i], matriz_peliculas[j])\n",
    "        peliculas_similares.append((pelicula1, pelicula2, similitud))\n",
    "\n",
    "print(\"Similitudes entre películas:\")\n",
    "for pelicula1, pelicula2, similitud in peliculas_similares:\n",
    "    print(f\"Similitud entre {pelicula1} y {pelicula2}: {similitud:.4f}\")\n",
    "\n"
   ]
  },
  {
   "cell_type": "markdown",
   "id": "8f8dfe1d-18d5-4cb4-8805-22e9b59387d5",
   "metadata": {},
   "source": [
    "**BONUS (Voluntario)**:\n",
    "\n",
    "A Jaimolas le encanta la premoritoria pelicula Wall-E (Aventura, Comedia, Acción), ¿qué película de las anteriores le recomendaríamos?"
   ]
  },
  {
   "cell_type": "code",
   "execution_count": null,
   "id": "30b139fd-722e-4ceb-ac9d-fa213a815065",
   "metadata": {},
   "outputs": [],
   "source": []
  }
 ],
 "metadata": {
  "kernelspec": {
   "display_name": "Python 3 (ipykernel)",
   "language": "python",
   "name": "python3"
  },
  "language_info": {
   "codemirror_mode": {
    "name": "ipython",
    "version": 3
   },
   "file_extension": ".py",
   "mimetype": "text/x-python",
   "name": "python",
   "nbconvert_exporter": "python",
   "pygments_lexer": "ipython3",
   "version": "3.8.10"
  }
 },
 "nbformat": 4,
 "nbformat_minor": 5
}
