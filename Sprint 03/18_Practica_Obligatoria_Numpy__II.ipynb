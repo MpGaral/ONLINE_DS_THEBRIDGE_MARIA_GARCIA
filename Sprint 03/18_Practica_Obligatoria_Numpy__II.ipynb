{
 "cells": [
  {
   "cell_type": "markdown",
   "id": "5aad5830-0919-444d-914e-90fdf739e125",
   "metadata": {},
   "source": [
    "## PRACTICA OBLIGATORIA: NUMPY"
   ]
  },
  {
   "cell_type": "markdown",
   "id": "8c4ea2dc-8e92-4b42-aeb1-d09f0d369db9",
   "metadata": {},
   "source": [
    "* La práctica obligatoria de esta unidad consiste en dos ejercicios de programación libre a completar. Descarga este notebook en tu ordenador y trabaja en local.  \n",
    "* Recuerda que debes subirla a tu repositorio personal antes de la sesión en vivo para que puntúe adecuadamente.  \n",
    "* Recuerda también que no es necesario que esté perfecta, sólo es necesario que se vea el esfuerzo. \n",
    "* Esta práctica se resolverá en la sesión en vivo correspondiente y la solución se publicará en el repo del curso. "
   ]
  },
  {
   "cell_type": "markdown",
   "id": "ac5195f4-3d50-4ae4-bc9a-f6685d1db95d",
   "metadata": {},
   "source": [
    "## PART I: Nuevos alumnos, \"nuevo\" algoritmo"
   ]
  },
  {
   "cell_type": "markdown",
   "id": "d481fbd2-008f-42d3-8f78-4027d51d79c9",
   "metadata": {},
   "source": [
    "**Apartado 1.** Como en la práctica obligatoria de la unidad anterior, se han incorporado dos alumnos a la clase de Dena Aidon: Teresa y Udo. Ambos han rellenado el cuestionario de comer y volar, de la siguiente forma:  \n",
    "\n",
    "**Teresa**: Comer: -2, Volar: -5  \n",
    "**Udo**: Comer: 0, Volar: 4"
   ]
  },
  {
   "cell_type": "markdown",
   "id": "552ef561-accc-495c-b91a-3b0948e81e0d",
   "metadata": {},
   "source": [
    "1.1 A partir de la clase de Dena Aidon, dada como una lista de listas o vectores fila, crea un array de Numpy.  \n",
    "1.2 Añade a Teresa y Udo de dos formas diferentes mediante concatenaciones"
   ]
  },
  {
   "cell_type": "code",
   "execution_count": 1,
   "id": "368a3466-abc0-4183-a016-3570264ddb70",
   "metadata": {},
   "outputs": [],
   "source": [
    "alumnos_aidone = [[5, 4],\n",
    " [2, -3],\n",
    " [3, 5],\n",
    " [-5, 4],\n",
    " [0, -1],\n",
    " [3, 2],\n",
    " [-1, 1],\n",
    " [5, -2],\n",
    " [-5, 3],\n",
    " [-5, 1]]\n"
   ]
  },
  {
   "cell_type": "code",
   "execution_count": 11,
   "id": "d323187d-c91a-405b-b671-782944061e7e",
   "metadata": {},
   "outputs": [
    {
     "name": "stdout",
     "output_type": "stream",
     "text": [
      "Array de numpy: [[ 5  4]\n",
      " [ 2 -3]\n",
      " [ 3  5]\n",
      " [-5  4]\n",
      " [ 0 -1]\n",
      " [ 3  2]\n",
      " [-1  1]\n",
      " [ 5 -2]\n",
      " [-5  3]\n",
      " [-5  1]]\n",
      "\n",
      " Aquí añado a Teresa y Udo: [[ 5  4]\n",
      " [ 2 -3]\n",
      " [ 3  5]\n",
      " [-5  4]\n",
      " [ 0 -1]\n",
      " [ 3  2]\n",
      " [-1  1]\n",
      " [ 5 -2]\n",
      " [-5  3]\n",
      " [-5  1]\n",
      " [-2 -5]\n",
      " [ 0 -4]]\n",
      "\n",
      " Otra forma de añadir a Teresa y Udo: [[ 5  4]\n",
      " [ 2 -3]\n",
      " [ 3  5]\n",
      " [-5  4]\n",
      " [ 0 -1]\n",
      " [ 3  2]\n",
      " [-1  1]\n",
      " [ 5 -2]\n",
      " [-5  3]\n",
      " [-5  1]\n",
      " [-2 -5]\n",
      " [ 0 -4]]\n"
     ]
    }
   ],
   "source": [
    "import numpy as np\n",
    "# 1.1 A partir de la clase de Dena Aidon, dada como una lista \n",
    "#de listas o vectores fila, crea un array de Numpy.\n",
    "array_alumnos_aidone = np.array(alumnos_aidone)\n",
    "print(f\"Array de numpy: {array_alumnos_aidone}\")\n",
    "\n",
    "# 1.2 Añade a Teresa y Udo de dos formas diferentes mediante concatenaciones\n",
    "\n",
    "Teresa = np.array ([-2,-5])\n",
    "Udo = np.array ([0,-4])\n",
    "print(f\"\\n Aquí añado a Teresa y Udo: {np.vstack([array_alumnos_aidone, Teresa, Udo])}\")\n",
    "\n",
    "nuevos_alumnos = np.array([Teresa, Udo])\n",
    "clase_con_teresa_udo_2 = np.concatenate((array_alumnos_aidone, nuevos_alumnos), axis=0)\n",
    "print(f\"\\n Otra forma de añadir a Teresa y Udo: {clase_con_teresa_udo_2}\")\n"
   ]
  },
  {
   "cell_type": "markdown",
   "id": "78db51bc-7645-4544-b784-2800b0159eae",
   "metadata": {},
   "source": [
    "**Apartado 2.** Modificar el algoritmo de elección de la clase extraescolar principal (el presentado en la siguiente celda) de forma que:\n",
    "\n",
    "2.1 En vez de emplear el diccionario de reparto empleemos una matriz de (12x3) incializada con 0 en todas sus posiciones.  \n",
    "\n",
    "2.2 Emplee alguna de las funciones de la librería numpy en las líneas señaladas para hacer los cálculos\n",
    "\n",
    "2.3 Utilice alguna de las funciones de agregación vistas para obtener la clase extraescolar asignada\n"
   ]
  },
  {
   "cell_type": "code",
   "execution_count": 6,
   "id": "fc1bfe06-61e1-4a80-b534-1e9ff211bdb8",
   "metadata": {},
   "outputs": [
    {
     "name": "stdout",
     "output_type": "stream",
     "text": [
      "Para Rodrigo con vector [5, 4]:\n",
      "Para Lucia con vector [2, -3]:\n",
      "Para Alejandro con vector [3, 5]:\n",
      "Para Valeria con vector [-5, 4]:\n",
      "Para Javier con vector [0, -1]:\n",
      "Para Camila con vector [3, 2]:\n",
      "Para Diego con vector [-1, 1]:\n",
      "Para Gabriela con vector [5, -2]:\n",
      "Para Mateo con vector [-5, 3]:\n",
      "Para Sofía con vector [-5, 1]:\n",
      "Para Teresa con vector [-2, -5]:\n",
      "Para Udo con vector [0, 4]:\n"
     ]
    }
   ],
   "source": [
    "import numpy as np\n",
    "alumnos_ref = [\"Rodrigo\",\"Gabriela\",\"Mateo\"]\n",
    "lista_alumnos = ['Rodrigo', 'Lucia', 'Alejandro', 'Valeria', 'Javier', 'Camila', 'Diego', 'Gabriela', 'Mateo', 'Sofía','Teresa','Udo']\n",
    "curso_asignado = [\"CAI\",\"ER\",\"NMPC\"]\n",
    "\n",
    "##2.1##\n",
    "diccionario_reparto = np.zeros((12,3)) \n",
    "####\n",
    "alumnos_aidone = [\n",
    "    [5, 4],\n",
    "    [2, -3],\n",
    "    [3, 5],\n",
    "    [-5, 4],\n",
    "    [0, -1],\n",
    "    [3, 2],\n",
    "    [-1, 1],\n",
    "    [5, -2],\n",
    "    [-5, 3],\n",
    "    [-5, 1],\n",
    "    [-2, -5],\n",
    "    [0, 4]\n",
    "]\n",
    "num_alumnos = len(lista_alumnos)\n",
    "\n",
    "for i_vector in range(num_alumnos): # Recorremos el diccionario donde tenemos el vector que caracteriza \n",
    "    \n",
    "    alumno = lista_alumnos[i_vector]\n",
    "    vector_alumno = alumnos_aidone[i_vector]\n",
    "    print(f\"Para {alumno} con vector {vector_alumno}:\")\n",
    "\n",
    "    distancia_minima = 99999999 \n",
    "    indice_distancia_minima = -1\n",
    "\n",
    "    vector_distancias = np.full((3),1000) # 1000 es un número arbitrario, no le des vueltas a por qué ese número.\n",
    "\n",
    "    for indice_curso,alumno_ref in enumerate(alumnos_ref):\n",
    "        indice_alumno_ref = lista_alumnos.index(alumno_ref)\n",
    "        vec_ref = alumnos_aidone[indice_alumno_ref] \n",
    "        \n",
    "        ##2.2 ##\n",
    "        distancia = np.linalg.norm(np.array(vector_alumno) - np.array(vec_ref))\n",
    "        ####\n",
    "        vector_distancias[indice_curso] = distancia\n",
    "   \n",
    "    ######################################################### 2.3 COMPLETA LA SIGUIENTE LINEA ######################################\n",
    "    #indice_curso_elegido = __.___(______)\n",
    "    #print(f\"{____________[___________]}\")\n",
    "    ###############################################################################################"
   ]
  },
  {
   "cell_type": "markdown",
   "id": "2181bd0e-d9d2-4ccd-8919-ac9059fde148",
   "metadata": {},
   "source": [
    "**Apartado 2.3**  \n",
    "¿A qué clases asignaremos a Teresa y a Udo?"
   ]
  },
  {
   "cell_type": "code",
   "execution_count": null,
   "id": "5990ab34-310c-43ac-89ee-ee62761f4c4f",
   "metadata": {},
   "outputs": [],
   "source": []
  },
  {
   "cell_type": "markdown",
   "id": "01642982-f248-46de-91e9-03101bd2bbb0",
   "metadata": {},
   "source": [
    "![image.png](attachment:image.png)"
   ]
  },
  {
   "cell_type": "markdown",
   "id": "c7084756-5052-43a4-a172-a2df991c57bd",
   "metadata": {},
   "source": [
    "## PARTE II: Mini hundir la flota"
   ]
  },
  {
   "cell_type": "markdown",
   "id": "5c54ad26-d771-47b7-8a68-f52375324f79",
   "metadata": {},
   "source": [
    "1. Crea un tablero de 10x10 relleno del carácter espacio \" \". (Utiliza un array de Numpy para representarlo y creálo utilizando las inicializaciones que hemos aprendidio)\n",
    "2. Posiciona un par de barcos en [(0,1), (1,1)] y [(1,3), (1,4), (1,5), (1,6)]. Los barcos serán Os mayúsculas. Como ves, un barco de dos posiciones de eslora y otro de cuatro.\n",
    "3. Recibe un disparo en uno de los barcos, sustituyendo la O por una X\n",
    "4. Recibe un disparo en agua, sustituyendo uno de los espacios por un guión: -\n",
    "5. Ignorando los disparos recibidos, ahora prueba a posicionar otro barco de 4 posiciones dentro del tablero, pero **de manera ALEATORIA.**\n",
    "\n",
    "**TIP apartado 5**: El barco tendrá una posición inicial aleatoria dentro del tablero, y una orientación también aleatoria (N,S,E,O).\n",
    "\n",
    "Por ejemplo, si tu posicion inicial fuese (5,0) y la orientación O, no podrias ponerlo porque se sale del tablero. Ahora bien, si fuese orientación este, si podrías, y ocuparía las posiciones [(5,0), (5,1), (5,2), (5,3)]. Por tanto tendrás que iterar con un bucle si es posible encajar el barco en el tablero, y el bucle terminará cuando lo consigas encajar. **Ojo con las posiciones donde ya hay barco!!!**\n",
    "\n",
    "Usa `import random` para elegir las coordenadas aleatorias.\n",
    "\n",
    "NOTA: Intenta crear fuciones para crear el tablero (de forma que tenga dimensiones variables), posicinar los barcos, generar los disparos dadas unas coordenadas, y generar barcos de forma aleatoria"
   ]
  },
  {
   "cell_type": "code",
   "execution_count": 8,
   "id": "cd875e09-601d-4861-9892-755f2a4a30d6",
   "metadata": {},
   "outputs": [
    {
     "name": "stdout",
     "output_type": "stream",
     "text": [
      "Tablero inicial:\n",
      " [[' ' ' ' ' ' ' ' ' ' ' ' ' ' ' ' ' ' ' ']\n",
      " [' ' ' ' ' ' ' ' ' ' ' ' ' ' ' ' ' ' ' ']\n",
      " [' ' ' ' ' ' ' ' ' ' ' ' ' ' ' ' ' ' ' ']\n",
      " [' ' ' ' ' ' ' ' ' ' ' ' ' ' ' ' ' ' ' ']\n",
      " [' ' ' ' ' ' ' ' ' ' ' ' ' ' ' ' ' ' ' ']\n",
      " [' ' ' ' ' ' ' ' ' ' ' ' ' ' ' ' ' ' ' ']\n",
      " [' ' ' ' ' ' ' ' ' ' ' ' ' ' ' ' ' ' ' ']\n",
      " [' ' ' ' ' ' ' ' ' ' ' ' ' ' ' ' ' ' ' ']\n",
      " [' ' ' ' ' ' ' ' ' ' ' ' ' ' ' ' ' ' ' ']\n",
      " [' ' ' ' ' ' ' ' ' ' ' ' ' ' ' ' ' ' ' ']]\n",
      "\n",
      "Tablero después de posicionar los barcos:\n",
      " [[' ' 'O' ' ' ' ' ' ' ' ' ' ' ' ' ' ' ' ']\n",
      " [' ' 'O' ' ' 'O' 'O' 'O' 'O' ' ' ' ' ' ']\n",
      " [' ' ' ' ' ' ' ' ' ' ' ' ' ' ' ' ' ' ' ']\n",
      " [' ' ' ' ' ' ' ' ' ' ' ' ' ' ' ' ' ' ' ']\n",
      " [' ' ' ' ' ' ' ' ' ' ' ' ' ' ' ' ' ' ' ']\n",
      " [' ' ' ' ' ' ' ' ' ' ' ' ' ' ' ' ' ' ' ']\n",
      " [' ' ' ' ' ' ' ' ' ' ' ' ' ' ' ' ' ' ' ']\n",
      " [' ' ' ' ' ' ' ' ' ' ' ' ' ' ' ' ' ' ' ']\n",
      " [' ' ' ' ' ' ' ' ' ' ' ' ' ' ' ' ' ' ' ']\n",
      " [' ' ' ' ' ' ' ' ' ' ' ' ' ' ' ' ' ' ' ']]\n",
      "\n",
      "Tablero después de los disparos:\n",
      " [[' ' 'O' ' ' ' ' ' ' ' ' ' ' ' ' ' ' ' ']\n",
      " [' ' 'O' ' ' 'X' 'O' 'O' 'O' ' ' ' ' ' ']\n",
      " [' ' ' ' '-' ' ' ' ' ' ' ' ' ' ' ' ' ' ']\n",
      " [' ' ' ' ' ' ' ' ' ' ' ' ' ' ' ' ' ' ' ']\n",
      " [' ' ' ' ' ' ' ' ' ' ' ' ' ' ' ' ' ' ' ']\n",
      " [' ' ' ' ' ' ' ' ' ' ' ' ' ' ' ' ' ' ' ']\n",
      " [' ' ' ' ' ' ' ' ' ' ' ' ' ' ' ' ' ' ' ']\n",
      " [' ' ' ' ' ' ' ' ' ' ' ' ' ' ' ' ' ' ' ']\n",
      " [' ' ' ' ' ' ' ' ' ' ' ' ' ' ' ' ' ' ' ']\n",
      " [' ' ' ' ' ' ' ' ' ' ' ' ' ' ' ' ' ' ' ']]\n"
     ]
    }
   ],
   "source": [
    "import random\n",
    "import numpy as np\n",
    "# 1. Crea un tablero 10x10 relleno del carácter espacio  \" \"\n",
    "tablero = np.full((10, 10), \" \")\n",
    "print(\"Tablero inicial:\\n\", tablero)\n",
    "\n",
    "# 2. Posicionar los barcos manualmente\n",
    "tablero[0, 1] = \"O\"\n",
    "tablero[1, 1] = \"O\"\n",
    "\n",
    "tablero[1, 3:7] = \"O\"  # Esto cubre las posiciones (1,3), (1,4), (1,5), (1,6)\n",
    "print(\"\\nTablero después de posicionar los barcos:\\n\", tablero)\n",
    "\n",
    "# 3. Recibir disparo en el barco\n",
    "\n",
    "disparo_barco = (1, 3)   \n",
    "if tablero[disparo_barco] == \"O\":\n",
    "    tablero[disparo_barco] = \"X\"  \n",
    "\n",
    "# 4. Recibir disparo en el agua\n",
    "disparo_agua = (2, 2) \n",
    "if tablero[disparo_agua] == \" \":\n",
    "    tablero[disparo_agua] = \"-\" \n",
    "print(\"\\nTablero después de los disparos:\\n\", tablero)\n",
    "\n",
    "\n",
    "\n",
    "\n",
    "\n",
    "\n"
   ]
  },
  {
   "cell_type": "code",
   "execution_count": null,
   "id": "82e1ef1a-f03c-49cd-adad-400f7961cd5c",
   "metadata": {},
   "outputs": [],
   "source": []
  }
 ],
 "metadata": {
  "kernelspec": {
   "display_name": "Python 3 (ipykernel)",
   "language": "python",
   "name": "python3"
  },
  "language_info": {
   "codemirror_mode": {
    "name": "ipython",
    "version": 3
   },
   "file_extension": ".py",
   "mimetype": "text/x-python",
   "name": "python",
   "nbconvert_exporter": "python",
   "pygments_lexer": "ipython3",
   "version": "3.8.10"
  }
 },
 "nbformat": 4,
 "nbformat_minor": 5
}
